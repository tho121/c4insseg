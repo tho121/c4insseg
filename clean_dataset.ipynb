{
 "cells": [
  {
   "attachments": {},
   "cell_type": "markdown",
   "metadata": {},
   "source": [
    "Convert images from ~2000x~1000 to 510x384. Supports multiple datasets."
   ]
  },
  {
   "cell_type": "code",
   "execution_count": 2,
   "metadata": {},
   "outputs": [],
   "source": [
    "import os\n",
    "import numpy as np\n",
    "from PIL import Image"
   ]
  },
  {
   "attachments": {},
   "cell_type": "markdown",
   "metadata": {},
   "source": [
    "Folder containing raw data, will create corresponding 'clean' folder for processed data."
   ]
  },
  {
   "cell_type": "code",
   "execution_count": 7,
   "metadata": {},
   "outputs": [],
   "source": [
    "DATA_FOLDER = \"datasets\""
   ]
  },
  {
   "attachments": {},
   "cell_type": "markdown",
   "metadata": {},
   "source": [
    "Generate data"
   ]
  },
  {
   "cell_type": "code",
   "execution_count": 11,
   "metadata": {},
   "outputs": [],
   "source": [
    "datasets = os.listdir(DATA_FOLDER)\n",
    "\n",
    "for ds in datasets:\n",
    "    \n",
    "    clean_dir = os.path.join(DATA_FOLDER, ds, \"clean\")\n",
    "    raw_dir = os.path.join(DATA_FOLDER, ds, \"raw\")\n",
    "\n",
    "    os.makedirs(clean_dir, exist_ok=True)\n",
    "\n",
    "    imgs = os.listdir(raw_dir)\n",
    "    count = 0\n",
    "\n",
    "    for img in imgs:\n",
    "        im = Image.open(os.path.join(raw_dir, img))\n",
    "        im = im.resize((510, 384))\n",
    "\n",
    "        im.save(os.path.join(clean_dir, \"c4_\" + ds + \"_\" + str(count) + \".jpg\"))\n",
    "        count += 1\n"
   ]
  },
  {
   "cell_type": "code",
   "execution_count": null,
   "metadata": {},
   "outputs": [],
   "source": []
  }
 ],
 "metadata": {
  "kernelspec": {
   "display_name": "Python 3.8.10 ('venv': venv)",
   "language": "python",
   "name": "python3"
  },
  "language_info": {
   "codemirror_mode": {
    "name": "ipython",
    "version": 3
   },
   "file_extension": ".py",
   "mimetype": "text/x-python",
   "name": "python",
   "nbconvert_exporter": "python",
   "pygments_lexer": "ipython3",
   "version": "3.8.10"
  },
  "orig_nbformat": 4,
  "vscode": {
   "interpreter": {
    "hash": "73d4c43128b3e98d773b144eae37bb73ef7dd2477516c54af042135a09cbb003"
   }
  }
 },
 "nbformat": 4,
 "nbformat_minor": 2
}
